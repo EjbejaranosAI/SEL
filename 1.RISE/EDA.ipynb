{
 "cells": [
  {
   "cell_type": "markdown",
   "metadata": {},
   "source": [
    "# EDA for datasets"
   ]
  },
  {
   "cell_type": "code",
   "execution_count": 149,
   "metadata": {},
   "outputs": [
    {
     "name": "stdout",
     "output_type": "stream",
     "text": [
      "['.DS_Store', 'WineQT.csv', 'bank-full.csv', 'telescope_data.csv', 'IRIS.csv', 'water_potability.csv', 'b_depressed.csv']\n"
     ]
    }
   ],
   "source": [
    "#Import libraries\n",
    "import pandas as pd\n",
    "import numpy as np\n",
    "import glob, os\n",
    "import seaborn as sns\n",
    "import matplotlib.pyplot as plt\n",
    "%reload_ext autoreload\n",
    "\n",
    "#import own libraries\n",
    "#from utils.config import configfile as cfg\n",
    "path_dataset = \"../datasets/\"\n",
    "\n",
    "dataset_names = os.listdir(path_dataset)\n",
    "print(dataset_names)"
   ]
  },
  {
   "cell_type": "code",
   "execution_count": 167,
   "metadata": {},
   "outputs": [],
   "source": [
    "#Function that take the path and return all the datasets loaded in a list\n",
    "def load_datasets(path_dataset):\n",
    "    array = glob.glob(os.path.join(path_dataset, '*.csv'))\n",
    "\n",
    "    df = []\n",
    "    df_small = []\n",
    "    df_middle = []\n",
    "    df_big = []\n",
    "\n",
    "    for i in range(len(array)):\n",
    "        df = pd.read_csv(array[i])\n",
    "        df = pd.DataFrame(df)\n",
    "        if df.shape[0] < 500:\n",
    "            df_small.append(df)\n",
    "        elif df.shape[0] > 500 and df.shape[0] < 2000:\n",
    "            df_middle.append(df)\n",
    "        else:\n",
    "            df_big.append(df)\n",
    "    return(df_small, df_middle, df_big)\n",
    "\n",
    "small, middle, big = load_datasets(path_dataset) \n",
    "\n"
   ]
  },
  {
   "cell_type": "code",
   "execution_count": 176,
   "metadata": {},
   "outputs": [
    {
     "name": "stdout",
     "output_type": "stream",
     "text": [
      "1\n",
      "(150, 5)\n",
      "2\n",
      "(1143, 13)\n",
      "3\n",
      "(45211, 17)\n"
     ]
    }
   ],
   "source": [
    "print(len(small))\n",
    "print(small[0].shape)\n",
    "print(len(middle))\n",
    "print(middle[0].shape)\n",
    "print(len(big))\n",
    "print(big[0].shape)"
   ]
  },
  {
   "cell_type": "code",
   "execution_count": 143,
   "metadata": {},
   "outputs": [
    {
     "name": "stdout",
     "output_type": "stream",
     "text": [
      "[]\n"
     ]
    }
   ],
   "source": [
    "df_name_array = dataset_names(path_dataset)\n",
    "\n",
    "\n",
    "print(df_name_array)"
   ]
  },
  {
   "cell_type": "code",
   "execution_count": 76,
   "metadata": {},
   "outputs": [],
   "source": [
    "\n",
    "df_frame = pd.DataFrame(df)\n"
   ]
  }
 ],
 "metadata": {
  "interpreter": {
   "hash": "c6e4e9f98eb68ad3b7c296f83d20e6de614cb42e90992a65aa266555a3137d0d"
  },
  "kernelspec": {
   "display_name": "Python 3.9.12 ('base')",
   "language": "python",
   "name": "python3"
  },
  "language_info": {
   "codemirror_mode": {
    "name": "ipython",
    "version": 3
   },
   "file_extension": ".py",
   "mimetype": "text/x-python",
   "name": "python",
   "nbconvert_exporter": "python",
   "pygments_lexer": "ipython3",
   "version": "3.9.12"
  },
  "orig_nbformat": 4
 },
 "nbformat": 4,
 "nbformat_minor": 2
}
